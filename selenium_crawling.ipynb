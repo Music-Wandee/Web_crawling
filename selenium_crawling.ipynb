{
 "cells": [
  {
   "cell_type": "markdown",
   "metadata": {},
   "source": [
    "## An example of crawling one page of Pantip.com"
   ]
  },
  {
   "cell_type": "code",
   "execution_count": 25,
   "metadata": {},
   "outputs": [],
   "source": [
    "from selenium import webdriver\n",
    "from selenium.webdriver import ActionChains\n",
    "from selenium.webdriver.support.ui import WebDriverWait\n",
    "from selenium.webdriver.support import expected_conditions as EC\n",
    "from selenium.common.exceptions import TimeoutException\n",
    "from selenium.webdriver.common.by import By\n",
    "from bs4 import BeautifulSoup\n",
    "import re"
   ]
  },
  {
   "cell_type": "markdown",
   "metadata": {},
   "source": [
    "### Assign some arguments"
   ]
  },
  {
   "cell_type": "code",
   "execution_count": 26,
   "metadata": {},
   "outputs": [],
   "source": [
    "url = 'https://pantip.com/topic/38478051'\n",
    "\n",
    "options = webdriver.ChromeOptions()\n",
    "#options.add_argument('headless')\n",
    "\n",
    "# initialize the driver\n",
    "driver = webdriver.Chrome(executable_path=\"C:\\webdriver\\chromedriver.exe\", options=options)\n",
    "driver.get(url)"
   ]
  },
  {
   "cell_type": "markdown",
   "metadata": {},
   "source": [
    "### Click button to accept cookies\n",
    "\n",
    "![](cookies.png)\n"
   ]
  },
  {
   "cell_type": "code",
   "execution_count": 27,
   "metadata": {},
   "outputs": [],
   "source": [
    "try:\n",
    "    cookie = WebDriverWait(driver, 3).until(EC.element_to_be_clickable((By.CSS_SELECTOR, \"div.pt-snackbar__actions.pt-action-policy\")))\n",
    "    cookie.click()\n",
    "except TimeoutException as ex:\n",
    "    print(\"There is not the pop up\")"
   ]
  },
  {
   "cell_type": "markdown",
   "metadata": {},
   "source": [
    "### Click to load page\n",
    "\n",
    "![](load_page.png)"
   ]
  },
  {
   "cell_type": "code",
   "execution_count": 28,
   "metadata": {},
   "outputs": [],
   "source": [
    "loadPage = True\n",
    "while loadPage:\n",
    "    try:        \n",
    "        load_comment_buttons = WebDriverWait(driver, 5).until(EC.element_to_be_clickable((By.CSS_SELECTOR, \"a.bar-paging-ed span.focus-txt\")))\n",
    "        driver.execute_script(\"return arguments[0].scrollIntoView({block: \\\"center\\\", inline: \\\"nearest\\\"});\", load_comment_buttons)\n",
    "        load_comment_buttons.click()\n",
    "    except TimeoutException as ex:\n",
    "        loadPage = False"
   ]
  },
  {
   "cell_type": "markdown",
   "metadata": {},
   "source": [
    "### Click reply buttons\n",
    "\n",
    "![](reply_button.png)"
   ]
  },
  {
   "cell_type": "code",
   "execution_count": 29,
   "metadata": {},
   "outputs": [],
   "source": [
    "try:\n",
    "    comment_buttons = WebDriverWait(driver, 3).until(EC.visibility_of_all_elements_located((By.CSS_SELECTOR, \"a.reply.see-more span.focus-txt\")))    \n",
    "    for button in comment_buttons:\n",
    "        driver.execute_script(\"return arguments[0].scrollIntoView({block: \\\"center\\\", inline: \\\"nearest\\\"});\", button)\n",
    "        button.click()\n",
    "except TimeoutException as ex:\n",
    "    print(\"No reply\")"
   ]
  },
  {
   "cell_type": "markdown",
   "metadata": {},
   "source": [
    "###  Loop click sub reply buttons\n",
    "![](sub_reply_button.png)\n"
   ]
  },
  {
   "cell_type": "code",
   "execution_count": 30,
   "metadata": {},
   "outputs": [],
   "source": [
    "loadButton = True   \n",
    "while loadButton:\n",
    "    try:\n",
    "        load_comment_buttons = WebDriverWait(driver, 3).until(EC.visibility_of_all_elements_located((By.CSS_SELECTOR, \"a.load-reply-next span.focus-txt\"))) \n",
    "        for button in load_comment_buttons:\n",
    "            driver.execute_script(\"return arguments[0].scrollIntoView({block: \\\"center\\\", inline: \\\"nearest\\\"});\", button)\n",
    "            button.click()\n",
    "    except TimeoutException as ex:\n",
    "        loadButton = False"
   ]
  },
  {
   "cell_type": "markdown",
   "metadata": {},
   "source": [
    "### Get full HTML"
   ]
  },
  {
   "cell_type": "code",
   "execution_count": 31,
   "metadata": {},
   "outputs": [],
   "source": [
    "content = driver.page_source\n",
    "soup = BeautifulSoup(content,'lxml')\n",
    "driver.close()"
   ]
  },
  {
   "cell_type": "markdown",
   "metadata": {},
   "source": [
    "### Get the owner's post"
   ]
  },
  {
   "cell_type": "code",
   "execution_count": 32,
   "metadata": {},
   "outputs": [
    {
     "data": {
      "text/plain": [
       "{'post': 'เพื่อนๆ คนไหนเคยทำ ช่วยแชร์ประสบการณ์หน่อยนะครับ',\n",
       " 'post_number': 'ความคิดเห็นที่ 0',\n",
       " 'owner': 'ทนายขีดเขียน',\n",
       " 'time': '20 มกราคม เวลา 23:24 น.'}"
      ]
     },
     "execution_count": 32,
     "metadata": {},
     "output_type": "execute_result"
    }
   ],
   "source": [
    "pantip = dict()\n",
    "all_comment = list()\n",
    "pantip['title'] = str(soup.find(class_ = 'display-post-title').text).strip()\n",
    "pantip['url'] =  url\n",
    "\n",
    "main = {\n",
    "        'post' : str(soup.find(class_ = 'display-post-story').text).strip(),\n",
    "        'post_number' : 'ความคิดเห็นที่ 0',\n",
    "        'owner' : str(soup.find(class_ = 'display-post-name owner').text).strip(),\n",
    "        'time' : str(soup.find(class_ = 'timeago').text).strip()\n",
    "        }\n",
    "all_comment.append(main)\n",
    "all_comment[0]"
   ]
  },
  {
   "cell_type": "markdown",
   "metadata": {},
   "source": [
    "### Loop get all posts"
   ]
  },
  {
   "cell_type": "code",
   "execution_count": 33,
   "metadata": {},
   "outputs": [],
   "source": [
    "for div in soup.find_all(\"div\", id = re.compile(\"^(comment|reply)-[0-9]+\")):\n",
    "    if len(str(div.text).strip()) > 1:\n",
    "        post = str(div.find(class_ = 'display-post-story').text).strip()\n",
    "        if post.find('ความคิดเห็นนี้ถูกลบเนื่องจาก') == -1:\n",
    "            reply ={\n",
    "                    'post' : post,\n",
    "                    'post_number' : str(div.find(class_ = 'display-post-number').text).strip(),\n",
    "                    'post_owner' : str(div.find(class_ = 'display-post-name').text).strip(),\n",
    "                    'time' : str(div.find(class_ = 'timeago').text).strip()\n",
    "                    }\n",
    "            all_comment.append(reply)\n",
    "pantip['sub_post'] = all_comment"
   ]
  },
  {
   "cell_type": "markdown",
   "metadata": {},
   "source": [
    "### Data structure\n",
    "\n",
    "![](data_structure.png)"
   ]
  },
  {
   "cell_type": "code",
   "execution_count": 34,
   "metadata": {},
   "outputs": [
    {
     "data": {
      "text/plain": [
       "{'post': 'ผญ.บางคนชอบทำงาน อยู่บ้านไม่มีสังคมจะเบื่อ ถามแฟนดีที่สุดครับ',\n",
       " 'post_number': 'ความคิดเห็นที่ 1',\n",
       " 'post_owner': 'สมาชิกหมายเลข 4054065',\n",
       " 'time': '20 มกราคม เวลา 23:28 น.'}"
      ]
     },
     "execution_count": 34,
     "metadata": {},
     "output_type": "execute_result"
    }
   ],
   "source": [
    "pantip['sub_post'][1]"
   ]
  },
  {
   "cell_type": "code",
   "execution_count": null,
   "metadata": {},
   "outputs": [],
   "source": []
  }
 ],
 "metadata": {
  "kernelspec": {
   "display_name": "Python 3",
   "language": "python",
   "name": "python3"
  },
  "language_info": {
   "codemirror_mode": {
    "name": "ipython",
    "version": 3
   },
   "file_extension": ".py",
   "mimetype": "text/x-python",
   "name": "python",
   "nbconvert_exporter": "python",
   "pygments_lexer": "ipython3",
   "version": "3.6.5"
  }
 },
 "nbformat": 4,
 "nbformat_minor": 2
}
